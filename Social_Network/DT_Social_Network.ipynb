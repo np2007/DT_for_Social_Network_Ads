{
 "cells": [
  {
   "cell_type": "markdown",
   "id": "4e9cc3ab",
   "metadata": {},
   "source": [
    "# Decision Tree : Social Network Ads"
   ]
  },
  {
   "cell_type": "markdown",
   "id": "0a4a88ea",
   "metadata": {},
   "source": [
    "For the same car dataset Social Network Ads we build Decision tree model and the dataset is downloaded from kaggle.\n",
    "\n",
    "We divided work in following parts:\n",
    "\n",
    "1.Importing dependencies and Load data\n",
    "\n",
    "2.Exploratory Data Analysis(EDA)\n",
    "\n",
    "3.Model Creation\n",
    "\n",
    "4.Model Evaluation"
   ]
  },
  {
   "cell_type": "code",
   "execution_count": 263,
   "id": "cf5b7878",
   "metadata": {},
   "outputs": [],
   "source": [
    "##1.Importing dependencies and Load data\n",
    "# Importing dependencies\n",
    "\n",
    "import pandas as pd\n",
    "import numpy as np\n",
    "import matplotlib.pyplot as plt\n",
    "import seaborn as sns\n",
    "from sklearn.metrics import classification_report,accuracy_score,confusion_matrix,precision_score\n",
    "from sklearn.tree import DecisionTreeClassifier,DecisionTreeRegressor\n",
    "from sklearn.preprocessing import LabelEncoder,StandardScaler\n",
    "from imblearn.over_sampling import RandomOverSampler\n",
    "from sklearn.model_selection import train_test_split\n",
    "from sklearn import tree\n"
   ]
  },
  {
   "cell_type": "code",
   "execution_count": 203,
   "id": "c4b8dd69",
   "metadata": {},
   "outputs": [
    {
     "data": {
      "text/html": [
       "<div>\n",
       "<style scoped>\n",
       "    .dataframe tbody tr th:only-of-type {\n",
       "        vertical-align: middle;\n",
       "    }\n",
       "\n",
       "    .dataframe tbody tr th {\n",
       "        vertical-align: top;\n",
       "    }\n",
       "\n",
       "    .dataframe thead th {\n",
       "        text-align: right;\n",
       "    }\n",
       "</style>\n",
       "<table border=\"1\" class=\"dataframe\">\n",
       "  <thead>\n",
       "    <tr style=\"text-align: right;\">\n",
       "      <th></th>\n",
       "      <th>User ID</th>\n",
       "      <th>Gender</th>\n",
       "      <th>Age</th>\n",
       "      <th>EstimatedSalary</th>\n",
       "      <th>Purchased</th>\n",
       "    </tr>\n",
       "  </thead>\n",
       "  <tbody>\n",
       "    <tr>\n",
       "      <th>0</th>\n",
       "      <td>15624510</td>\n",
       "      <td>Male</td>\n",
       "      <td>19</td>\n",
       "      <td>19000</td>\n",
       "      <td>0</td>\n",
       "    </tr>\n",
       "    <tr>\n",
       "      <th>1</th>\n",
       "      <td>15810944</td>\n",
       "      <td>Male</td>\n",
       "      <td>35</td>\n",
       "      <td>20000</td>\n",
       "      <td>0</td>\n",
       "    </tr>\n",
       "    <tr>\n",
       "      <th>2</th>\n",
       "      <td>15668575</td>\n",
       "      <td>Female</td>\n",
       "      <td>26</td>\n",
       "      <td>43000</td>\n",
       "      <td>0</td>\n",
       "    </tr>\n",
       "    <tr>\n",
       "      <th>3</th>\n",
       "      <td>15603246</td>\n",
       "      <td>Female</td>\n",
       "      <td>27</td>\n",
       "      <td>57000</td>\n",
       "      <td>0</td>\n",
       "    </tr>\n",
       "    <tr>\n",
       "      <th>4</th>\n",
       "      <td>15804002</td>\n",
       "      <td>Male</td>\n",
       "      <td>19</td>\n",
       "      <td>76000</td>\n",
       "      <td>0</td>\n",
       "    </tr>\n",
       "  </tbody>\n",
       "</table>\n",
       "</div>"
      ],
      "text/plain": [
       "    User ID  Gender  Age  EstimatedSalary  Purchased\n",
       "0  15624510    Male   19            19000          0\n",
       "1  15810944    Male   35            20000          0\n",
       "2  15668575  Female   26            43000          0\n",
       "3  15603246  Female   27            57000          0\n",
       "4  15804002    Male   19            76000          0"
      ]
     },
     "execution_count": 203,
     "metadata": {},
     "output_type": "execute_result"
    }
   ],
   "source": [
    "# Load the dataset\n",
    "\n",
    "data=pd.read_csv(\"Social_Network_Ads.csv\")\n",
    "data.head()"
   ]
  },
  {
   "cell_type": "code",
   "execution_count": 204,
   "id": "4c217e55",
   "metadata": {},
   "outputs": [
    {
     "data": {
      "text/plain": [
       "(400, 5)"
      ]
     },
     "execution_count": 204,
     "metadata": {},
     "output_type": "execute_result"
    }
   ],
   "source": [
    "#2. EDA\n",
    "# Rows and columns\n",
    "\n",
    "data.shape"
   ]
  },
  {
   "cell_type": "code",
   "execution_count": 205,
   "id": "47b4465a",
   "metadata": {},
   "outputs": [
    {
     "data": {
      "text/plain": [
       "Index(['User ID', 'Gender', 'Age', 'EstimatedSalary', 'Purchased'], dtype='object')"
      ]
     },
     "execution_count": 205,
     "metadata": {},
     "output_type": "execute_result"
    }
   ],
   "source": [
    "# Columns\n",
    "data.columns"
   ]
  },
  {
   "cell_type": "code",
   "execution_count": 206,
   "id": "bae19625",
   "metadata": {},
   "outputs": [
    {
     "data": {
      "text/plain": [
       "User ID             int64\n",
       "Gender             object\n",
       "Age                 int64\n",
       "EstimatedSalary     int64\n",
       "Purchased           int64\n",
       "dtype: object"
      ]
     },
     "execution_count": 206,
     "metadata": {},
     "output_type": "execute_result"
    }
   ],
   "source": [
    "# Data Types\n",
    "\n",
    "data.dtypes"
   ]
  },
  {
   "cell_type": "code",
   "execution_count": 207,
   "id": "ae9d8d3b",
   "metadata": {},
   "outputs": [
    {
     "name": "stdout",
     "output_type": "stream",
     "text": [
      "<class 'pandas.core.frame.DataFrame'>\n",
      "RangeIndex: 400 entries, 0 to 399\n",
      "Data columns (total 5 columns):\n",
      " #   Column           Non-Null Count  Dtype \n",
      "---  ------           --------------  ----- \n",
      " 0   User ID          400 non-null    int64 \n",
      " 1   Gender           400 non-null    object\n",
      " 2   Age              400 non-null    int64 \n",
      " 3   EstimatedSalary  400 non-null    int64 \n",
      " 4   Purchased        400 non-null    int64 \n",
      "dtypes: int64(4), object(1)\n",
      "memory usage: 15.8+ KB\n"
     ]
    }
   ],
   "source": [
    "# Data Information\n",
    "\n",
    "data.info()"
   ]
  },
  {
   "cell_type": "code",
   "execution_count": 208,
   "id": "9e0444d9",
   "metadata": {},
   "outputs": [
    {
     "data": {
      "text/html": [
       "<div>\n",
       "<style scoped>\n",
       "    .dataframe tbody tr th:only-of-type {\n",
       "        vertical-align: middle;\n",
       "    }\n",
       "\n",
       "    .dataframe tbody tr th {\n",
       "        vertical-align: top;\n",
       "    }\n",
       "\n",
       "    .dataframe thead th {\n",
       "        text-align: right;\n",
       "    }\n",
       "</style>\n",
       "<table border=\"1\" class=\"dataframe\">\n",
       "  <thead>\n",
       "    <tr style=\"text-align: right;\">\n",
       "      <th></th>\n",
       "      <th>User ID</th>\n",
       "      <th>Age</th>\n",
       "      <th>EstimatedSalary</th>\n",
       "      <th>Purchased</th>\n",
       "    </tr>\n",
       "  </thead>\n",
       "  <tbody>\n",
       "    <tr>\n",
       "      <th>count</th>\n",
       "      <td>4.000000e+02</td>\n",
       "      <td>400.000000</td>\n",
       "      <td>400.000000</td>\n",
       "      <td>400.000000</td>\n",
       "    </tr>\n",
       "    <tr>\n",
       "      <th>mean</th>\n",
       "      <td>1.569154e+07</td>\n",
       "      <td>37.655000</td>\n",
       "      <td>69742.500000</td>\n",
       "      <td>0.357500</td>\n",
       "    </tr>\n",
       "    <tr>\n",
       "      <th>std</th>\n",
       "      <td>7.165832e+04</td>\n",
       "      <td>10.482877</td>\n",
       "      <td>34096.960282</td>\n",
       "      <td>0.479864</td>\n",
       "    </tr>\n",
       "    <tr>\n",
       "      <th>min</th>\n",
       "      <td>1.556669e+07</td>\n",
       "      <td>18.000000</td>\n",
       "      <td>15000.000000</td>\n",
       "      <td>0.000000</td>\n",
       "    </tr>\n",
       "    <tr>\n",
       "      <th>25%</th>\n",
       "      <td>1.562676e+07</td>\n",
       "      <td>29.750000</td>\n",
       "      <td>43000.000000</td>\n",
       "      <td>0.000000</td>\n",
       "    </tr>\n",
       "    <tr>\n",
       "      <th>50%</th>\n",
       "      <td>1.569434e+07</td>\n",
       "      <td>37.000000</td>\n",
       "      <td>70000.000000</td>\n",
       "      <td>0.000000</td>\n",
       "    </tr>\n",
       "    <tr>\n",
       "      <th>75%</th>\n",
       "      <td>1.575036e+07</td>\n",
       "      <td>46.000000</td>\n",
       "      <td>88000.000000</td>\n",
       "      <td>1.000000</td>\n",
       "    </tr>\n",
       "    <tr>\n",
       "      <th>max</th>\n",
       "      <td>1.581524e+07</td>\n",
       "      <td>60.000000</td>\n",
       "      <td>150000.000000</td>\n",
       "      <td>1.000000</td>\n",
       "    </tr>\n",
       "  </tbody>\n",
       "</table>\n",
       "</div>"
      ],
      "text/plain": [
       "            User ID         Age  EstimatedSalary   Purchased\n",
       "count  4.000000e+02  400.000000       400.000000  400.000000\n",
       "mean   1.569154e+07   37.655000     69742.500000    0.357500\n",
       "std    7.165832e+04   10.482877     34096.960282    0.479864\n",
       "min    1.556669e+07   18.000000     15000.000000    0.000000\n",
       "25%    1.562676e+07   29.750000     43000.000000    0.000000\n",
       "50%    1.569434e+07   37.000000     70000.000000    0.000000\n",
       "75%    1.575036e+07   46.000000     88000.000000    1.000000\n",
       "max    1.581524e+07   60.000000    150000.000000    1.000000"
      ]
     },
     "execution_count": 208,
     "metadata": {},
     "output_type": "execute_result"
    }
   ],
   "source": [
    "# Statistical Information\n",
    "\n",
    "data.describe()"
   ]
  },
  {
   "cell_type": "code",
   "execution_count": 209,
   "id": "1670419f",
   "metadata": {},
   "outputs": [
    {
     "data": {
      "text/html": [
       "<div>\n",
       "<style scoped>\n",
       "    .dataframe tbody tr th:only-of-type {\n",
       "        vertical-align: middle;\n",
       "    }\n",
       "\n",
       "    .dataframe tbody tr th {\n",
       "        vertical-align: top;\n",
       "    }\n",
       "\n",
       "    .dataframe thead th {\n",
       "        text-align: right;\n",
       "    }\n",
       "</style>\n",
       "<table border=\"1\" class=\"dataframe\">\n",
       "  <thead>\n",
       "    <tr style=\"text-align: right;\">\n",
       "      <th></th>\n",
       "      <th>Gender</th>\n",
       "      <th>Age</th>\n",
       "      <th>EstimatedSalary</th>\n",
       "      <th>Purchased</th>\n",
       "    </tr>\n",
       "  </thead>\n",
       "  <tbody>\n",
       "    <tr>\n",
       "      <th>0</th>\n",
       "      <td>Male</td>\n",
       "      <td>19</td>\n",
       "      <td>19000</td>\n",
       "      <td>0</td>\n",
       "    </tr>\n",
       "    <tr>\n",
       "      <th>1</th>\n",
       "      <td>Male</td>\n",
       "      <td>35</td>\n",
       "      <td>20000</td>\n",
       "      <td>0</td>\n",
       "    </tr>\n",
       "    <tr>\n",
       "      <th>2</th>\n",
       "      <td>Female</td>\n",
       "      <td>26</td>\n",
       "      <td>43000</td>\n",
       "      <td>0</td>\n",
       "    </tr>\n",
       "    <tr>\n",
       "      <th>3</th>\n",
       "      <td>Female</td>\n",
       "      <td>27</td>\n",
       "      <td>57000</td>\n",
       "      <td>0</td>\n",
       "    </tr>\n",
       "    <tr>\n",
       "      <th>4</th>\n",
       "      <td>Male</td>\n",
       "      <td>19</td>\n",
       "      <td>76000</td>\n",
       "      <td>0</td>\n",
       "    </tr>\n",
       "    <tr>\n",
       "      <th>...</th>\n",
       "      <td>...</td>\n",
       "      <td>...</td>\n",
       "      <td>...</td>\n",
       "      <td>...</td>\n",
       "    </tr>\n",
       "    <tr>\n",
       "      <th>395</th>\n",
       "      <td>Female</td>\n",
       "      <td>46</td>\n",
       "      <td>41000</td>\n",
       "      <td>1</td>\n",
       "    </tr>\n",
       "    <tr>\n",
       "      <th>396</th>\n",
       "      <td>Male</td>\n",
       "      <td>51</td>\n",
       "      <td>23000</td>\n",
       "      <td>1</td>\n",
       "    </tr>\n",
       "    <tr>\n",
       "      <th>397</th>\n",
       "      <td>Female</td>\n",
       "      <td>50</td>\n",
       "      <td>20000</td>\n",
       "      <td>1</td>\n",
       "    </tr>\n",
       "    <tr>\n",
       "      <th>398</th>\n",
       "      <td>Male</td>\n",
       "      <td>36</td>\n",
       "      <td>33000</td>\n",
       "      <td>0</td>\n",
       "    </tr>\n",
       "    <tr>\n",
       "      <th>399</th>\n",
       "      <td>Female</td>\n",
       "      <td>49</td>\n",
       "      <td>36000</td>\n",
       "      <td>1</td>\n",
       "    </tr>\n",
       "  </tbody>\n",
       "</table>\n",
       "<p>400 rows × 4 columns</p>\n",
       "</div>"
      ],
      "text/plain": [
       "     Gender  Age  EstimatedSalary  Purchased\n",
       "0      Male   19            19000          0\n",
       "1      Male   35            20000          0\n",
       "2    Female   26            43000          0\n",
       "3    Female   27            57000          0\n",
       "4      Male   19            76000          0\n",
       "..      ...  ...              ...        ...\n",
       "395  Female   46            41000          1\n",
       "396    Male   51            23000          1\n",
       "397  Female   50            20000          1\n",
       "398    Male   36            33000          0\n",
       "399  Female   49            36000          1\n",
       "\n",
       "[400 rows x 4 columns]"
      ]
     },
     "execution_count": 209,
     "metadata": {},
     "output_type": "execute_result"
    }
   ],
   "source": [
    "# drop the User ID column\n",
    "\n",
    "data=data.drop('User ID',axis=1)\n",
    "data"
   ]
  },
  {
   "cell_type": "code",
   "execution_count": 210,
   "id": "f4e1b7f9",
   "metadata": {},
   "outputs": [
    {
     "data": {
      "text/plain": [
       "0    257\n",
       "1    143\n",
       "Name: Purchased, dtype: int64"
      ]
     },
     "execution_count": 210,
     "metadata": {},
     "output_type": "execute_result"
    }
   ],
   "source": [
    "# Check Balancing of data\n",
    "\n",
    "data.Purchased.value_counts()"
   ]
  },
  {
   "cell_type": "markdown",
   "id": "7465fab0",
   "metadata": {},
   "source": [
    "Balancing required"
   ]
  },
  {
   "cell_type": "code",
   "execution_count": 212,
   "id": "44bac484",
   "metadata": {},
   "outputs": [
    {
     "data": {
      "text/plain": [
       "Gender             0\n",
       "Age                0\n",
       "EstimatedSalary    0\n",
       "Purchased          0\n",
       "dtype: int64"
      ]
     },
     "execution_count": 212,
     "metadata": {},
     "output_type": "execute_result"
    }
   ],
   "source": [
    "# Checking null values\n",
    "\n",
    "data.isnull().sum()"
   ]
  },
  {
   "cell_type": "markdown",
   "id": "a81e54e3",
   "metadata": {},
   "source": [
    "No null values"
   ]
  },
  {
   "cell_type": "code",
   "execution_count": 213,
   "id": "0b4e6193",
   "metadata": {},
   "outputs": [
    {
     "data": {
      "text/plain": [
       "<AxesSubplot:xlabel='Age', ylabel='Count'>"
      ]
     },
     "execution_count": 213,
     "metadata": {},
     "output_type": "execute_result"
    },
    {
     "data": {
      "image/png": "[encoded data removed]",
      "text/plain": [
       "<Figure size 432x288 with 1 Axes>"
      ]
     },
     "metadata": {
      "needs_background": "light"
     },
     "output_type": "display_data"
    }
   ],
   "source": [
    "# Distribution of Age data\n",
    "\n",
    "sns.histplot(data=data.Age,kde=True)"
   ]
  },
  {
   "cell_type": "code",
   "execution_count": 214,
   "id": "d9a4266e",
   "metadata": {},
   "outputs": [
    {
     "data": {
      "text/plain": [
       "<seaborn.axisgrid.FacetGrid at 0x169c9eb6280>"
      ]
     },
     "execution_count": 214,
     "metadata": {},
     "output_type": "execute_result"
    },
    {
     "data": {
      "image/png": "[encoded data removed]",
      "text/plain": [
       "<Figure size 360x360 with 1 Axes>"
      ]
     },
     "metadata": {
      "needs_background": "light"
     },
     "output_type": "display_data"
    }
   ],
   "source": [
    "# Distribution of Estimated Salary feature\n",
    "\n",
    "sns.displot(data=data.EstimatedSalary,kde=True)"
   ]
  },
  {
   "cell_type": "code",
   "execution_count": 215,
   "id": "462f87d4",
   "metadata": {},
   "outputs": [
    {
     "data": {
      "text/plain": [
       "<AxesSubplot:>"
      ]
     },
     "execution_count": 215,
     "metadata": {},
     "output_type": "execute_result"
    },
    {
     "data": {
      "image/png": "[encoded data removed]",
      "text/plain": [
       "<Figure size 432x288 with 1 Axes>"
      ]
     },
     "metadata": {
      "needs_background": "light"
     },
     "output_type": "display_data"
    }
   ],
   "source": [
    "# Outlier Checking\n",
    "\n",
    "sns.boxplot(data=data)"
   ]
  },
  {
   "cell_type": "markdown",
   "id": "9cb9c70b",
   "metadata": {},
   "source": [
    "No outliers detected"
   ]
  },
  {
   "cell_type": "code",
   "execution_count": 220,
   "id": "a03d963f",
   "metadata": {},
   "outputs": [
    {
     "data": {
      "text/html": [
       "<div>\n",
       "<style scoped>\n",
       "    .dataframe tbody tr th:only-of-type {\n",
       "        vertical-align: middle;\n",
       "    }\n",
       "\n",
       "    .dataframe tbody tr th {\n",
       "        vertical-align: top;\n",
       "    }\n",
       "\n",
       "    .dataframe thead th {\n",
       "        text-align: right;\n",
       "    }\n",
       "</style>\n",
       "<table border=\"1\" class=\"dataframe\">\n",
       "  <thead>\n",
       "    <tr style=\"text-align: right;\">\n",
       "      <th></th>\n",
       "      <th>Gender</th>\n",
       "      <th>Age</th>\n",
       "      <th>EstimatedSalary</th>\n",
       "      <th>Purchased</th>\n",
       "    </tr>\n",
       "  </thead>\n",
       "  <tbody>\n",
       "    <tr>\n",
       "      <th>0</th>\n",
       "      <td>1</td>\n",
       "      <td>19</td>\n",
       "      <td>19000</td>\n",
       "      <td>0</td>\n",
       "    </tr>\n",
       "    <tr>\n",
       "      <th>1</th>\n",
       "      <td>1</td>\n",
       "      <td>35</td>\n",
       "      <td>20000</td>\n",
       "      <td>0</td>\n",
       "    </tr>\n",
       "    <tr>\n",
       "      <th>2</th>\n",
       "      <td>0</td>\n",
       "      <td>26</td>\n",
       "      <td>43000</td>\n",
       "      <td>0</td>\n",
       "    </tr>\n",
       "    <tr>\n",
       "      <th>3</th>\n",
       "      <td>0</td>\n",
       "      <td>27</td>\n",
       "      <td>57000</td>\n",
       "      <td>0</td>\n",
       "    </tr>\n",
       "    <tr>\n",
       "      <th>4</th>\n",
       "      <td>1</td>\n",
       "      <td>19</td>\n",
       "      <td>76000</td>\n",
       "      <td>0</td>\n",
       "    </tr>\n",
       "    <tr>\n",
       "      <th>...</th>\n",
       "      <td>...</td>\n",
       "      <td>...</td>\n",
       "      <td>...</td>\n",
       "      <td>...</td>\n",
       "    </tr>\n",
       "    <tr>\n",
       "      <th>395</th>\n",
       "      <td>0</td>\n",
       "      <td>46</td>\n",
       "      <td>41000</td>\n",
       "      <td>1</td>\n",
       "    </tr>\n",
       "    <tr>\n",
       "      <th>396</th>\n",
       "      <td>1</td>\n",
       "      <td>51</td>\n",
       "      <td>23000</td>\n",
       "      <td>1</td>\n",
       "    </tr>\n",
       "    <tr>\n",
       "      <th>397</th>\n",
       "      <td>0</td>\n",
       "      <td>50</td>\n",
       "      <td>20000</td>\n",
       "      <td>1</td>\n",
       "    </tr>\n",
       "    <tr>\n",
       "      <th>398</th>\n",
       "      <td>1</td>\n",
       "      <td>36</td>\n",
       "      <td>33000</td>\n",
       "      <td>0</td>\n",
       "    </tr>\n",
       "    <tr>\n",
       "      <th>399</th>\n",
       "      <td>0</td>\n",
       "      <td>49</td>\n",
       "      <td>36000</td>\n",
       "      <td>1</td>\n",
       "    </tr>\n",
       "  </tbody>\n",
       "</table>\n",
       "<p>400 rows × 4 columns</p>\n",
       "</div>"
      ],
      "text/plain": [
       "     Gender  Age  EstimatedSalary  Purchased\n",
       "0         1   19            19000          0\n",
       "1         1   35            20000          0\n",
       "2         0   26            43000          0\n",
       "3         0   27            57000          0\n",
       "4         1   19            76000          0\n",
       "..      ...  ...              ...        ...\n",
       "395       0   46            41000          1\n",
       "396       1   51            23000          1\n",
       "397       0   50            20000          1\n",
       "398       1   36            33000          0\n",
       "399       0   49            36000          1\n",
       "\n",
       "[400 rows x 4 columns]"
      ]
     },
     "execution_count": 220,
     "metadata": {},
     "output_type": "execute_result"
    }
   ],
   "source": [
    "# Encoding \n",
    "\n",
    "le=LabelEncoder()\n",
    "data.Gender=le.fit_transform(data.Gender)\n",
    "data"
   ]
  },
  {
   "cell_type": "code",
   "execution_count": 221,
   "id": "475b5f37",
   "metadata": {},
   "outputs": [
    {
     "data": {
      "text/plain": [
       "<AxesSubplot:>"
      ]
     },
     "execution_count": 221,
     "metadata": {},
     "output_type": "execute_result"
    },
    {
     "data": {
      "image/png": "[encoded data removed]",
      "text/plain": [
       "<Figure size 432x288 with 2 Axes>"
      ]
     },
     "metadata": {
      "needs_background": "light"
     },
     "output_type": "display_data"
    }
   ],
   "source": [
    "# Correlation checking\n",
    "\n",
    "sns.heatmap(data.corr(),annot=True)"
   ]
  },
  {
   "cell_type": "code",
   "execution_count": 228,
   "id": "b6fa688a",
   "metadata": {},
   "outputs": [
    {
     "data": {
      "text/plain": [
       "array([[    1,    19, 19000],\n",
       "       [    1,    35, 20000],\n",
       "       [    0,    26, 43000],\n",
       "       ...,\n",
       "       [    0,    50, 20000],\n",
       "       [    1,    36, 33000],\n",
       "       [    0,    49, 36000]], dtype=int64)"
      ]
     },
     "execution_count": 228,
     "metadata": {},
     "output_type": "execute_result"
    }
   ],
   "source": [
    "# Determining : X and y\n",
    "\n",
    "X=data.drop('Purchased',axis=1).values\n",
    "X"
   ]
  },
  {
   "cell_type": "code",
   "execution_count": 229,
   "id": "7024844e",
   "metadata": {},
   "outputs": [
    {
     "data": {
      "text/plain": [
       "array([0, 0, 0, 0, 0, 0, 0, 1, 0, 0, 0, 0, 0, 0, 0, 0, 1, 1, 1, 1, 1, 1,\n",
       "       1, 1, 1, 1, 1, 1, 0, 0, 0, 1, 0, 0, 0, 0, 0, 0, 0, 0, 0, 0, 0, 0,\n",
       "       0, 0, 0, 0, 1, 0, 0, 0, 0, 0, 0, 0, 0, 0, 0, 0, 0, 0, 0, 1, 0, 0,\n",
       "       0, 0, 0, 0, 0, 0, 0, 0, 0, 1, 0, 0, 0, 0, 0, 0, 0, 0, 0, 1, 0, 0,\n",
       "       0, 0, 0, 0, 0, 0, 0, 0, 0, 1, 0, 0, 0, 0, 0, 1, 0, 0, 0, 0, 0, 0,\n",
       "       0, 0, 0, 0, 0, 0, 0, 0, 0, 0, 0, 0, 0, 0, 0, 0, 0, 0, 0, 0, 0, 0,\n",
       "       0, 0, 0, 0, 0, 1, 0, 0, 0, 0, 0, 0, 0, 0, 1, 0, 0, 0, 0, 0, 0, 0,\n",
       "       0, 0, 0, 0, 0, 1, 1, 0, 0, 0, 0, 0, 0, 0, 1, 0, 0, 0, 0, 0, 0, 0,\n",
       "       0, 0, 0, 0, 0, 0, 1, 0, 0, 0, 0, 0, 0, 0, 0, 0, 0, 0, 0, 0, 0, 0,\n",
       "       0, 0, 0, 0, 1, 0, 1, 0, 1, 0, 1, 0, 1, 1, 0, 0, 0, 1, 0, 0, 0, 1,\n",
       "       0, 1, 1, 1, 0, 0, 1, 1, 0, 1, 1, 0, 1, 1, 0, 1, 0, 0, 0, 1, 1, 0,\n",
       "       1, 1, 0, 1, 0, 1, 0, 1, 0, 0, 1, 1, 0, 1, 0, 0, 1, 1, 0, 1, 1, 0,\n",
       "       1, 1, 0, 0, 1, 0, 0, 1, 1, 1, 1, 1, 0, 1, 1, 1, 1, 0, 1, 1, 0, 1,\n",
       "       0, 1, 0, 1, 1, 1, 1, 0, 0, 0, 1, 1, 0, 1, 1, 1, 1, 1, 0, 0, 0, 1,\n",
       "       1, 0, 0, 1, 0, 1, 0, 1, 1, 0, 1, 0, 1, 1, 0, 1, 1, 0, 0, 0, 1, 1,\n",
       "       0, 1, 0, 0, 1, 0, 1, 0, 0, 1, 1, 0, 0, 1, 1, 0, 1, 1, 0, 0, 1, 0,\n",
       "       1, 0, 1, 1, 1, 0, 1, 0, 1, 1, 1, 0, 1, 1, 1, 1, 0, 1, 1, 1, 0, 1,\n",
       "       0, 1, 0, 0, 1, 1, 0, 1, 1, 1, 1, 1, 1, 0, 1, 1, 1, 1, 1, 1, 0, 1,\n",
       "       1, 1, 0, 1], dtype=int64)"
      ]
     },
     "execution_count": 229,
     "metadata": {},
     "output_type": "execute_result"
    }
   ],
   "source": [
    "y=data['Purchased'].values\n",
    "y"
   ]
  },
  {
   "cell_type": "code",
   "execution_count": 264,
   "id": "3daa031a",
   "metadata": {},
   "outputs": [
    {
     "data": {
      "text/plain": [
       "((462, 3), (400,))"
      ]
     },
     "execution_count": 264,
     "metadata": {},
     "output_type": "execute_result"
    }
   ],
   "source": [
    "# Balancing the data\n",
    "\n",
    "obj=RandomOverSampler(sampling_strategy=0.8)\n",
    "X1,y1=obj.fit_resample(X,y)\n",
    "X1.shape,y.shape"
   ]
  },
  {
   "cell_type": "code",
   "execution_count": 235,
   "id": "e444587f",
   "metadata": {},
   "outputs": [
    {
     "name": "stdout",
     "output_type": "stream",
     "text": [
      "X_train: (323, 3)\n",
      "X_test: (139, 3)\n",
      "y_train: (323,)\n",
      "y_test: (139,)\n"
     ]
    }
   ],
   "source": [
    "#3. Model creation\n",
    "# Split the data\n",
    "\n",
    "X_train,X_test,y_train,y_test=train_test_split(X1,y1,test_size=0.3)\n",
    "print(\"X_train:\",np.shape(X_train))\n",
    "print(\"X_test:\",np.shape(X_test))\n",
    "print(\"y_train:\",np.shape(y_train))\n",
    "print(\"y_test:\",np.shape(y_test))"
   ]
  },
  {
   "cell_type": "code",
   "execution_count": 236,
   "id": "96f3c6da",
   "metadata": {},
   "outputs": [
    {
     "data": {
      "text/plain": [
       "array([0, 0, 0, 0, 1, 1, 0, 0, 0, 1, 1, 0, 0, 0, 1, 1, 1, 1, 1, 0, 1, 1,\n",
       "       0, 1, 0, 1, 1, 1, 1, 1, 1, 1, 1, 1, 0, 0, 0, 0, 0, 1, 1, 1, 1, 1,\n",
       "       1, 1, 1, 0, 0, 1, 0, 1, 1, 0, 1, 0, 0, 0, 0, 0, 1, 1, 0, 0, 0, 1,\n",
       "       0, 0, 0, 0, 1, 1, 0, 1, 1, 1, 1, 0, 1, 0, 0, 0, 0, 0, 1, 1, 1, 0,\n",
       "       1, 0, 1, 0, 0, 0, 0, 1, 0, 1, 1, 0, 1, 0, 1, 0, 0, 0, 0, 0, 0, 0,\n",
       "       1, 0, 1, 1, 1, 0, 0, 0, 1, 0, 0, 0, 1, 1, 1, 1, 1, 1, 0, 0, 1, 0,\n",
       "       1, 0, 0, 1, 0, 1, 0], dtype=int64)"
      ]
     },
     "execution_count": 236,
     "metadata": {},
     "output_type": "execute_result"
    }
   ],
   "source": [
    "# model selection and fit\n",
    "\n",
    "dt=DecisionTreeClassifier(criterion='entropy',random_state=2)\n",
    "model=dt.fit(X_train,y_train)\n",
    "y_pred_test=model.predict(X_test)\n",
    "y_pred_test"
   ]
  },
  {
   "cell_type": "code",
   "execution_count": 239,
   "id": "4ce83de6",
   "metadata": {},
   "outputs": [
    {
     "data": {
      "text/plain": [
       "array([[     0,     36,  75000],\n",
       "       [     1,     18,  82000],\n",
       "       [     0,     30, 116000],\n",
       "       [     0,     49, 141000],\n",
       "       [     0,     58,  95000],\n",
       "       [     1,     55,  39000],\n",
       "       [     0,     38,  50000],\n",
       "       [     1,     20,  74000],\n",
       "       [     1,     38,  61000],\n",
       "       [     1,     41,  79000],\n",
       "       [     0,     47,  47000],\n",
       "       [     0,     34,  25000],\n",
       "       [     1,     35,  79000],\n",
       "       [     1,     40,  75000],\n",
       "       [     0,     43, 112000],\n",
       "       [     0,     50,  20000],\n",
       "       [     1,     55,  39000],\n",
       "       [     1,     45,  79000],\n",
       "       [     0,     38, 112000],\n",
       "       [     0,     39,  79000],\n",
       "       [     0,     57, 122000],\n",
       "       [     1,     39, 134000],\n",
       "       [     0,     37,  80000],\n",
       "       [     0,     48,  30000],\n",
       "       [     0,     42,  80000],\n",
       "       [     1,     46, 117000],\n",
       "       [     0,     48,  29000],\n",
       "       [     0,     27,  96000],\n",
       "       [     1,     30, 107000],\n",
       "       [     1,     59, 143000],\n",
       "       [     0,     27,  96000],\n",
       "       [     1,     35, 108000],\n",
       "       [     0,     36, 126000],\n",
       "       [     1,     48,  41000],\n",
       "       [     0,     35,  77000],\n",
       "       [     1,     38,  51000],\n",
       "       [     0,     26,  80000],\n",
       "       [     1,     24,  55000],\n",
       "       [     0,     42,  80000],\n",
       "       [     1,     42, 104000],\n",
       "       [     0,     58,  23000],\n",
       "       [     0,     45, 131000],\n",
       "       [     0,     51, 134000],\n",
       "       [     1,     40, 107000],\n",
       "       [     0,     55, 125000],\n",
       "       [     0,     27,  96000],\n",
       "       [     0,     33, 113000],\n",
       "       [     0,     22,  63000],\n",
       "       [     1,     31,  58000],\n",
       "       [     0,     50,  36000],\n",
       "       [     0,     26,  84000],\n",
       "       [     0,     37, 146000],\n",
       "       [     0,     37,  93000],\n",
       "       [     0,     24,  27000],\n",
       "       [     1,     60,  42000],\n",
       "       [     1,     40,  57000],\n",
       "       [     0,     31,  34000],\n",
       "       [     1,     42,  54000],\n",
       "       [     1,     23,  63000],\n",
       "       [     1,     41,  52000],\n",
       "       [     0,     46,  96000],\n",
       "       [     0,     32, 117000],\n",
       "       [     0,     40,  75000],\n",
       "       [     1,     26,  86000],\n",
       "       [     1,     34,  43000],\n",
       "       [     0,     32, 135000],\n",
       "       [     0,     42,  70000],\n",
       "       [     1,     21,  88000],\n",
       "       [     0,     21,  16000],\n",
       "       [     0,     33,  60000],\n",
       "       [     1,     37, 144000],\n",
       "       [     1,     59, 130000],\n",
       "       [     0,     35,  50000],\n",
       "       [     1,     49,  86000],\n",
       "       [     0,     47,  50000],\n",
       "       [     0,     32, 150000],\n",
       "       [     1,     53,  72000],\n",
       "       [     1,     42,  65000],\n",
       "       [     1,     49,  28000],\n",
       "       [     0,     41,  51000],\n",
       "       [     0,     28,  37000],\n",
       "       [     0,     23,  82000],\n",
       "       [     0,     45,  22000],\n",
       "       [     0,     28,  84000],\n",
       "       [     0,     27, 137000],\n",
       "       [     0,     26, 118000],\n",
       "       [     0,     47,  51000],\n",
       "       [     1,     35,  38000],\n",
       "       [     1,     49,  28000],\n",
       "       [     1,     26,  16000],\n",
       "       [     0,     42,  90000],\n",
       "       [     0,     41,  72000],\n",
       "       [     1,     35,  22000],\n",
       "       [     0,     41,  80000],\n",
       "       [     1,     28,  32000],\n",
       "       [     0,     59,  88000],\n",
       "       [     0,     31,  89000],\n",
       "       [     0,     42, 108000],\n",
       "       [     1,     60,  83000],\n",
       "       [     1,     39,  71000],\n",
       "       [     0,     47, 113000],\n",
       "       [     0,     20,  82000],\n",
       "       [     0,     37, 146000],\n",
       "       [     0,     47, 144000],\n",
       "       [     1,     20,  86000],\n",
       "       [     0,     50,  44000],\n",
       "       [     1,     37,  55000],\n",
       "       [     0,     26,  43000],\n",
       "       [     0,     39,  75000],\n",
       "       [     0,     29,  83000],\n",
       "       [     1,     51,  23000],\n",
       "       [     0,     29,  83000],\n",
       "       [     1,     34, 112000],\n",
       "       [     0,     56, 104000],\n",
       "       [     0,     54, 108000],\n",
       "       [     1,     19,  76000],\n",
       "       [     0,     24,  32000],\n",
       "       [     1,     29,  75000],\n",
       "       [     0,     44,  39000],\n",
       "       [     0,     23,  66000],\n",
       "       [     0,     37,  78000],\n",
       "       [     1,     36,  60000],\n",
       "       [     1,     45,  26000],\n",
       "       [     1,     47,  20000],\n",
       "       [     0,     47,  49000],\n",
       "       [     0,     52,  38000],\n",
       "       [     1,     60,  42000],\n",
       "       [     1,     36, 125000],\n",
       "       [     1,     40,  71000],\n",
       "       [     1,     24,  23000],\n",
       "       [     1,     36, 118000],\n",
       "       [     1,     25,  33000],\n",
       "       [     1,     52, 150000],\n",
       "       [     0,     35,  47000],\n",
       "       [     0,     36,  50000],\n",
       "       [     0,     42,  90000],\n",
       "       [     1,     35,  72000],\n",
       "       [     1,     46,  59000],\n",
       "       [     0,     31,  68000]], dtype=int64)"
      ]
     },
     "execution_count": 239,
     "metadata": {},
     "output_type": "execute_result"
    }
   ],
   "source": [
    "X_test"
   ]
  },
  {
   "cell_type": "code",
   "execution_count": 240,
   "id": "fd6eaff6",
   "metadata": {},
   "outputs": [
    {
     "data": {
      "text/plain": [
       "array([1], dtype=int64)"
      ]
     },
     "execution_count": 240,
     "metadata": {},
     "output_type": "execute_result"
    }
   ],
   "source": [
    "model.predict([[0,55,130000]])"
   ]
  },
  {
   "cell_type": "code",
   "execution_count": 241,
   "id": "77cf0c2d",
   "metadata": {},
   "outputs": [],
   "source": [
    "# Model predication for train data\n",
    "\n",
    "y_pred_train=model.predict(X_train)"
   ]
  },
  {
   "cell_type": "code",
   "execution_count": 242,
   "id": "b05628b5",
   "metadata": {},
   "outputs": [
    {
     "data": {
      "text/plain": [
       "0.8561151079136691"
      ]
     },
     "execution_count": 242,
     "metadata": {},
     "output_type": "execute_result"
    }
   ],
   "source": [
    "# accuracy for test data\n",
    "\n",
    "accuracy_score(y_test,y_pred_test)"
   ]
  },
  {
   "cell_type": "code",
   "execution_count": 243,
   "id": "ddaffec1",
   "metadata": {},
   "outputs": [
    {
     "data": {
      "text/plain": [
       "1.0"
      ]
     },
     "execution_count": 243,
     "metadata": {},
     "output_type": "execute_result"
    }
   ],
   "source": [
    "# accuracy for train data\n",
    "\n",
    "accuracy_score(y_train,y_pred_train)"
   ]
  },
  {
   "cell_type": "markdown",
   "id": "ab73633f",
   "metadata": {},
   "source": [
    "If have difference between the two accuricies then overfitting is occures. Hence our model in overfitting"
   ]
  },
  {
   "cell_type": "code",
   "execution_count": 265,
   "id": "7e7a9d7c",
   "metadata": {},
   "outputs": [
    {
     "data": {
      "text/plain": [
       "array([[63, 12],\n",
       "       [ 8, 56]], dtype=int64)"
      ]
     },
     "execution_count": 265,
     "metadata": {},
     "output_type": "execute_result"
    }
   ],
   "source": [
    "# Confusion Matrix\n",
    "\n",
    "cm=confusion_matrix(y_test,y_pred_test)\n",
    "cm"
   ]
  },
  {
   "cell_type": "code",
   "execution_count": 267,
   "id": "5cca3ff6",
   "metadata": {},
   "outputs": [
    {
     "name": "stdout",
     "output_type": "stream",
     "text": [
      "TP: 63\n",
      "FP: 8\n",
      "TN: 56\n",
      "FN: 12\n"
     ]
    }
   ],
   "source": [
    "# TP,TN,FP,FN values\n",
    "\n",
    "TP=cm[0][0]\n",
    "FP=cm[1][0]\n",
    "TN=cm[1][1]\n",
    "FN=cm[0][1]\n",
    "print(\"TP:\",TP)\n",
    "print(\"FP:\",FP)\n",
    "print(\"TN:\",TN)\n",
    "print(\"FN:\",FN)"
   ]
  },
  {
   "cell_type": "code",
   "execution_count": 268,
   "id": "89d8c2c0",
   "metadata": {},
   "outputs": [
    {
     "name": "stdout",
     "output_type": "stream",
     "text": [
      "Accuracy: 0.8561151079136691\n",
      "Precision: 0.8873239436619719\n",
      "Recall: 0.84\n"
     ]
    }
   ],
   "source": [
    "# Accuracy,Precision,Recall\n",
    "\n",
    "P=TP/(TP+FP)\n",
    "R=TP/(TP+FN)\n",
    "print(\"Accuracy:\",(TP+TN)/(TP+TN+FN+FP))\n",
    "print(\"Precision:\",P)\n",
    "print(\"Recall:\",R)"
   ]
  },
  {
   "cell_type": "code",
   "execution_count": 269,
   "id": "d617bada",
   "metadata": {},
   "outputs": [
    {
     "name": "stdout",
     "output_type": "stream",
     "text": [
      "              precision    recall  f1-score   support\n",
      "\n",
      "           0       0.89      0.84      0.86        75\n",
      "           1       0.82      0.88      0.85        64\n",
      "\n",
      "    accuracy                           0.86       139\n",
      "   macro avg       0.86      0.86      0.86       139\n",
      "weighted avg       0.86      0.86      0.86       139\n",
      "\n"
     ]
    }
   ],
   "source": [
    "# Classification report\n",
    "\n",
    "print(classification_report(y_test,y_pred_test))"
   ]
  },
  {
   "cell_type": "code",
   "execution_count": 270,
   "id": "1ff1c6eb",
   "metadata": {},
   "outputs": [
    {
     "data": {
      "text/plain": [
       "[Text(0.35344827586206895, 0.9545454545454546, 'X[1] <= 42.5\\nentropy = 0.988\\nsamples = 323\\nvalue = [182, 141]'),\n",
       " Text(0.1724137931034483, 0.8636363636363636, 'X[2] <= 90500.0\\nentropy = 0.731\\nsamples = 215\\nvalue = [171, 44]'),\n",
       " Text(0.06896551724137931, 0.7727272727272727, 'X[1] <= 36.5\\nentropy = 0.215\\nsamples = 176\\nvalue = [170, 6]'),\n",
       " Text(0.034482758620689655, 0.6818181818181818, 'entropy = 0.0\\nsamples = 118\\nvalue = [118, 0]'),\n",
       " Text(0.10344827586206896, 0.6818181818181818, 'X[2] <= 67500.0\\nentropy = 0.48\\nsamples = 58\\nvalue = [52, 6]'),\n",
       " Text(0.06896551724137931, 0.5909090909090909, 'entropy = 0.0\\nsamples = 31\\nvalue = [31, 0]'),\n",
       " Text(0.13793103448275862, 0.5909090909090909, 'X[2] <= 83500.0\\nentropy = 0.764\\nsamples = 27\\nvalue = [21, 6]'),\n",
       " Text(0.10344827586206896, 0.5, 'X[0] <= 0.5\\nentropy = 0.634\\nsamples = 25\\nvalue = [21, 4]'),\n",
       " Text(0.06896551724137931, 0.4090909090909091, 'entropy = 0.0\\nsamples = 11\\nvalue = [11, 0]'),\n",
       " Text(0.13793103448275862, 0.4090909090909091, 'X[2] <= 70500.0\\nentropy = 0.863\\nsamples = 14\\nvalue = [10, 4]'),\n",
       " Text(0.10344827586206896, 0.3181818181818182, 'entropy = 0.0\\nsamples = 1\\nvalue = [0, 1]'),\n",
       " Text(0.1724137931034483, 0.3181818181818182, 'X[1] <= 41.5\\nentropy = 0.779\\nsamples = 13\\nvalue = [10, 3]'),\n",
       " Text(0.10344827586206896, 0.22727272727272727, 'X[2] <= 78500.0\\nentropy = 0.469\\nsamples = 10\\nvalue = [9, 1]'),\n",
       " Text(0.06896551724137931, 0.13636363636363635, 'entropy = 0.0\\nsamples = 9\\nvalue = [9, 0]'),\n",
       " Text(0.13793103448275862, 0.13636363636363635, 'entropy = 0.0\\nsamples = 1\\nvalue = [0, 1]'),\n",
       " Text(0.2413793103448276, 0.22727272727272727, 'X[2] <= 76500.0\\nentropy = 0.918\\nsamples = 3\\nvalue = [1, 2]'),\n",
       " Text(0.20689655172413793, 0.13636363636363635, 'entropy = 0.0\\nsamples = 2\\nvalue = [0, 2]'),\n",
       " Text(0.27586206896551724, 0.13636363636363635, 'entropy = 0.0\\nsamples = 1\\nvalue = [1, 0]'),\n",
       " Text(0.1724137931034483, 0.5, 'entropy = 0.0\\nsamples = 2\\nvalue = [0, 2]'),\n",
       " Text(0.27586206896551724, 0.7727272727272727, 'X[2] <= 116000.0\\nentropy = 0.172\\nsamples = 39\\nvalue = [1, 38]'),\n",
       " Text(0.2413793103448276, 0.6818181818181818, 'X[2] <= 114000.0\\nentropy = 0.391\\nsamples = 13\\nvalue = [1, 12]'),\n",
       " Text(0.20689655172413793, 0.5909090909090909, 'entropy = 0.0\\nsamples = 12\\nvalue = [0, 12]'),\n",
       " Text(0.27586206896551724, 0.5909090909090909, 'entropy = 0.0\\nsamples = 1\\nvalue = [1, 0]'),\n",
       " Text(0.3103448275862069, 0.6818181818181818, 'entropy = 0.0\\nsamples = 26\\nvalue = [0, 26]'),\n",
       " Text(0.5344827586206896, 0.8636363636363636, 'X[2] <= 41500.0\\nentropy = 0.475\\nsamples = 108\\nvalue = [11, 97]'),\n",
       " Text(0.41379310344827586, 0.7727272727272727, 'X[2] <= 22500.0\\nentropy = 0.176\\nsamples = 38\\nvalue = [1, 37]'),\n",
       " Text(0.3793103448275862, 0.6818181818181818, 'X[1] <= 46.5\\nentropy = 0.811\\nsamples = 4\\nvalue = [1, 3]'),\n",
       " Text(0.3448275862068966, 0.5909090909090909, 'X[0] <= 0.5\\nentropy = 1.0\\nsamples = 2\\nvalue = [1, 1]'),\n",
       " Text(0.3103448275862069, 0.5, 'entropy = 0.0\\nsamples = 1\\nvalue = [1, 0]'),\n",
       " Text(0.3793103448275862, 0.5, 'entropy = 0.0\\nsamples = 1\\nvalue = [0, 1]'),\n",
       " Text(0.41379310344827586, 0.5909090909090909, 'entropy = 0.0\\nsamples = 2\\nvalue = [0, 2]'),\n",
       " Text(0.4482758620689655, 0.6818181818181818, 'entropy = 0.0\\nsamples = 34\\nvalue = [0, 34]'),\n",
       " Text(0.6551724137931034, 0.7727272727272727, 'X[2] <= 84500.0\\nentropy = 0.592\\nsamples = 70\\nvalue = [10, 60]'),\n",
       " Text(0.5517241379310345, 0.6818181818181818, 'X[1] <= 51.0\\nentropy = 0.811\\nsamples = 28\\nvalue = [7, 21]'),\n",
       " Text(0.4827586206896552, 0.5909090909090909, 'X[1] <= 48.5\\nentropy = 1.0\\nsamples = 10\\nvalue = [5, 5]'),\n",
       " Text(0.4482758620689655, 0.5, 'X[2] <= 44000.0\\nentropy = 0.954\\nsamples = 8\\nvalue = [3, 5]'),\n",
       " Text(0.41379310344827586, 0.4090909090909091, 'entropy = 0.0\\nsamples = 1\\nvalue = [1, 0]'),\n",
       " Text(0.4827586206896552, 0.4090909090909091, 'X[2] <= 80500.0\\nentropy = 0.863\\nsamples = 7\\nvalue = [2, 5]'),\n",
       " Text(0.4482758620689655, 0.3181818181818182, 'X[1] <= 46.5\\nentropy = 0.65\\nsamples = 6\\nvalue = [1, 5]'),\n",
       " Text(0.41379310344827586, 0.22727272727272727, 'X[2] <= 59500.0\\nentropy = 0.918\\nsamples = 3\\nvalue = [1, 2]'),\n",
       " Text(0.3793103448275862, 0.13636363636363635, 'entropy = 0.0\\nsamples = 1\\nvalue = [0, 1]'),\n",
       " Text(0.4482758620689655, 0.13636363636363635, 'X[0] <= 0.5\\nentropy = 1.0\\nsamples = 2\\nvalue = [1, 1]'),\n",
       " Text(0.41379310344827586, 0.045454545454545456, 'entropy = 0.0\\nsamples = 1\\nvalue = [1, 0]'),\n",
       " Text(0.4827586206896552, 0.045454545454545456, 'entropy = 0.0\\nsamples = 1\\nvalue = [0, 1]'),\n",
       " Text(0.4827586206896552, 0.22727272727272727, 'entropy = 0.0\\nsamples = 3\\nvalue = [0, 3]'),\n",
       " Text(0.5172413793103449, 0.3181818181818182, 'entropy = 0.0\\nsamples = 1\\nvalue = [1, 0]'),\n",
       " Text(0.5172413793103449, 0.5, 'entropy = 0.0\\nsamples = 2\\nvalue = [2, 0]'),\n",
       " Text(0.6206896551724138, 0.5909090909090909, 'X[0] <= 0.5\\nentropy = 0.503\\nsamples = 18\\nvalue = [2, 16]'),\n",
       " Text(0.5862068965517241, 0.5, 'X[2] <= 44000.0\\nentropy = 0.863\\nsamples = 7\\nvalue = [2, 5]'),\n",
       " Text(0.5517241379310345, 0.4090909090909091, 'entropy = 0.0\\nsamples = 1\\nvalue = [1, 0]'),\n",
       " Text(0.6206896551724138, 0.4090909090909091, 'X[2] <= 82500.0\\nentropy = 0.65\\nsamples = 6\\nvalue = [1, 5]'),\n",
       " Text(0.5862068965517241, 0.3181818181818182, 'entropy = 0.0\\nsamples = 5\\nvalue = [0, 5]'),\n",
       " Text(0.6551724137931034, 0.3181818181818182, 'entropy = 0.0\\nsamples = 1\\nvalue = [1, 0]'),\n",
       " Text(0.6551724137931034, 0.5, 'entropy = 0.0\\nsamples = 11\\nvalue = [0, 11]'),\n",
       " Text(0.7586206896551724, 0.6818181818181818, 'X[2] <= 113000.0\\nentropy = 0.371\\nsamples = 42\\nvalue = [3, 39]'),\n",
       " Text(0.7241379310344828, 0.5909090909090909, 'entropy = 0.0\\nsamples = 19\\nvalue = [0, 19]'),\n",
       " Text(0.7931034482758621, 0.5909090909090909, 'X[2] <= 115500.0\\nentropy = 0.559\\nsamples = 23\\nvalue = [3, 20]'),\n",
       " Text(0.7586206896551724, 0.5, 'entropy = 0.0\\nsamples = 1\\nvalue = [1, 0]'),\n",
       " Text(0.8275862068965517, 0.5, 'X[1] <= 43.5\\nentropy = 0.439\\nsamples = 22\\nvalue = [2, 20]'),\n",
       " Text(0.7586206896551724, 0.4090909090909091, 'X[2] <= 131000.0\\nentropy = 1.0\\nsamples = 2\\nvalue = [1, 1]'),\n",
       " Text(0.7241379310344828, 0.3181818181818182, 'entropy = 0.0\\nsamples = 1\\nvalue = [0, 1]'),\n",
       " Text(0.7931034482758621, 0.3181818181818182, 'entropy = 0.0\\nsamples = 1\\nvalue = [1, 0]'),\n",
       " Text(0.896551724137931, 0.4090909090909091, 'X[2] <= 140000.0\\nentropy = 0.286\\nsamples = 20\\nvalue = [1, 19]'),\n",
       " Text(0.8620689655172413, 0.3181818181818182, 'entropy = 0.0\\nsamples = 15\\nvalue = [0, 15]'),\n",
       " Text(0.9310344827586207, 0.3181818181818182, 'X[1] <= 49.5\\nentropy = 0.722\\nsamples = 5\\nvalue = [1, 4]'),\n",
       " Text(0.896551724137931, 0.22727272727272727, 'entropy = 0.0\\nsamples = 1\\nvalue = [1, 0]'),\n",
       " Text(0.9655172413793104, 0.22727272727272727, 'entropy = 0.0\\nsamples = 4\\nvalue = [0, 4]')]"
      ]
     },
     "execution_count": 270,
     "metadata": {},
     "output_type": "execute_result"
    },
    {
     "data": {
      "image/png": "[encoded data removed]",
      "text/plain": [
       "<Figure size 720x576 with 1 Axes>"
      ]
     },
     "metadata": {
      "needs_background": "light"
     },
     "output_type": "display_data"
    }
   ],
   "source": [
    "# Decision tree for the above model\n",
    "\n",
    "plt.figure(figsize=(10,8))\n",
    "tree.plot_tree(dt,filled=True)"
   ]
  },
  {
   "cell_type": "code",
   "execution_count": null,
   "id": "7cfa97fe",
   "metadata": {},
   "outputs": [],
   "source": []
  },
  {
   "cell_type": "code",
   "execution_count": null,
   "id": "c9377d85",
   "metadata": {},
   "outputs": [],
   "source": [
    "# Overfitting solution: tree prunning"
   ]
  },
  {
   "cell_type": "code",
   "execution_count": 271,
   "id": "8eff5677",
   "metadata": {},
   "outputs": [],
   "source": [
    "# Finding path\n",
    "\n",
    "path=dt.cost_complexity_pruning_path(X_train,y_train)\n",
    "ccp_alpha=path.ccp_alphas\n",
    "impurities=path.impurities"
   ]
  },
  {
   "cell_type": "code",
   "execution_count": 272,
   "id": "6734e06f",
   "metadata": {},
   "outputs": [],
   "source": [
    "# create model\n",
    "\n",
    "dt1=DecisionTreeClassifier(ccp_alpha=0.016,criterion='entropy')\n",
    "model1=dt1.fit(X_train,y_train)\n",
    "# test data\n",
    "y_test_pred=model1.predict(X_test)"
   ]
  },
  {
   "cell_type": "code",
   "execution_count": 273,
   "id": "09709177",
   "metadata": {},
   "outputs": [],
   "source": [
    "# train data\n",
    "\n",
    "y_train_pred=model1.predict(X_train)"
   ]
  },
  {
   "cell_type": "code",
   "execution_count": 274,
   "id": "913a1163",
   "metadata": {},
   "outputs": [
    {
     "data": {
      "text/plain": [
       "0.8561151079136691"
      ]
     },
     "execution_count": 274,
     "metadata": {},
     "output_type": "execute_result"
    }
   ],
   "source": [
    "# test data\n",
    "accuracy_score(y_test,y_test_pred)"
   ]
  },
  {
   "cell_type": "code",
   "execution_count": 276,
   "id": "f186de99",
   "metadata": {},
   "outputs": [
    {
     "data": {
      "text/plain": [
       "0.9442724458204335"
      ]
     },
     "execution_count": 276,
     "metadata": {},
     "output_type": "execute_result"
    }
   ],
   "source": [
    "#train data\n",
    "\n",
    "accuracy_score(y_train,y_train_pred)"
   ]
  },
  {
   "cell_type": "code",
   "execution_count": 277,
   "id": "62c92cb5",
   "metadata": {},
   "outputs": [
    {
     "data": {
      "text/plain": [
       "array([[62, 13],\n",
       "       [ 7, 57]], dtype=int64)"
      ]
     },
     "execution_count": 277,
     "metadata": {},
     "output_type": "execute_result"
    }
   ],
   "source": [
    "# Confusion matrix\n",
    "\n",
    "cm1=confusion_matrix(y_test,y_test_pred)\n",
    "cm1"
   ]
  },
  {
   "cell_type": "code",
   "execution_count": 278,
   "id": "4caad384",
   "metadata": {},
   "outputs": [
    {
     "name": "stdout",
     "output_type": "stream",
     "text": [
      "TP: 62\n",
      "FP: 7\n",
      "TN: 57\n",
      "FN: 13\n"
     ]
    }
   ],
   "source": [
    "TP1=cm1[0][0]\n",
    "FP1=cm1[1][0]\n",
    "TN1=cm1[1][1]\n",
    "FN1=cm1[0][1]\n",
    "print(\"TP:\",TP1)\n",
    "print(\"FP:\",FP1)\n",
    "print(\"TN:\",TN1)\n",
    "print(\"FN:\",FN1)"
   ]
  },
  {
   "cell_type": "code",
   "execution_count": 279,
   "id": "74e04281",
   "metadata": {},
   "outputs": [
    {
     "name": "stdout",
     "output_type": "stream",
     "text": [
      "Accuracy: 0.8561151079136691\n",
      "Precision: 0.8985507246376812\n",
      "Recall: 0.8266666666666667\n"
     ]
    }
   ],
   "source": [
    "P1=TP1/(TP1+FP1)\n",
    "R1=TP1/(TP1+FN1)\n",
    "print(\"Accuracy:\",(TP1+TN1)/(TP1+TN1+FN1+FP1))\n",
    "print(\"Precision:\",P1)\n",
    "print(\"Recall:\",R1)"
   ]
  },
  {
   "cell_type": "code",
   "execution_count": 280,
   "id": "a61f6790",
   "metadata": {},
   "outputs": [
    {
     "name": "stdout",
     "output_type": "stream",
     "text": [
      "              precision    recall  f1-score   support\n",
      "\n",
      "           0       0.90      0.83      0.86        75\n",
      "           1       0.81      0.89      0.85        64\n",
      "\n",
      "    accuracy                           0.86       139\n",
      "   macro avg       0.86      0.86      0.86       139\n",
      "weighted avg       0.86      0.86      0.86       139\n",
      "\n"
     ]
    }
   ],
   "source": [
    "print(classification_report(y_test,y_test_pred))"
   ]
  },
  {
   "cell_type": "code",
   "execution_count": 282,
   "id": "e0f4d431",
   "metadata": {},
   "outputs": [
    {
     "data": {
      "text/plain": [
       "[Text(0.6666666666666666, 0.9, 'X[1] <= 42.5\\nentropy = 0.988\\nsamples = 323\\nvalue = [182, 141]'),\n",
       " Text(0.5, 0.7, 'X[2] <= 90500.0\\nentropy = 0.731\\nsamples = 215\\nvalue = [171, 44]'),\n",
       " Text(0.3333333333333333, 0.5, 'X[1] <= 36.5\\nentropy = 0.215\\nsamples = 176\\nvalue = [170, 6]'),\n",
       " Text(0.16666666666666666, 0.3, 'entropy = 0.0\\nsamples = 118\\nvalue = [118, 0]'),\n",
       " Text(0.5, 0.3, 'X[2] <= 67500.0\\nentropy = 0.48\\nsamples = 58\\nvalue = [52, 6]'),\n",
       " Text(0.3333333333333333, 0.1, 'entropy = 0.0\\nsamples = 31\\nvalue = [31, 0]'),\n",
       " Text(0.6666666666666666, 0.1, 'entropy = 0.764\\nsamples = 27\\nvalue = [21, 6]'),\n",
       " Text(0.6666666666666666, 0.5, 'entropy = 0.172\\nsamples = 39\\nvalue = [1, 38]'),\n",
       " Text(0.8333333333333334, 0.7, 'entropy = 0.475\\nsamples = 108\\nvalue = [11, 97]')]"
      ]
     },
     "execution_count": 282,
     "metadata": {},
     "output_type": "execute_result"
    },
    {
     "data": {
      "image/png": "[encoded data removed]",
      "text/plain": [
       "<Figure size 432x432 with 1 Axes>"
      ]
     },
     "metadata": {
      "needs_background": "light"
     },
     "output_type": "display_data"
    }
   ],
   "source": [
    "# After prunning \n",
    "\n",
    "plt.figure(figsize=(6,6))\n",
    "tree.plot_tree(dt1,filled=True)"
   ]
  },
  {
   "cell_type": "code",
   "execution_count": null,
   "id": "ab7bf71f",
   "metadata": {},
   "outputs": [],
   "source": []
  }
 ],
 "metadata": {
  "kernelspec": {
   "display_name": "Python 3 (ipykernel)",
   "language": "python",
   "name": "python3"
  },
  "language_info": {
   "codemirror_mode": {
    "name": "ipython",
    "version": 3
   },
   "file_extension": ".py",
   "mimetype": "text/x-python",
   "name": "python",
   "nbconvert_exporter": "python",
   "pygments_lexer": "ipython3",
   "version": "3.9.6"
  }
 },
 "nbformat": 4,
 "nbformat_minor": 5
}
